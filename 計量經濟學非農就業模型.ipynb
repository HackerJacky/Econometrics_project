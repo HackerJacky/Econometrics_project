{
  "nbformat": 4,
  "nbformat_minor": 0,
  "metadata": {
    "colab": {
      "provenance": [],
      "mount_file_id": "1i9Qv4r__csubuce59at9H3V3LR6ID4sC",
      "authorship_tag": "ABX9TyMU3QnzfeQ423wpNAmfiVUQ",
      "include_colab_link": true
    },
    "kernelspec": {
      "name": "python3",
      "display_name": "Python 3"
    },
    "language_info": {
      "name": "python"
    }
  },
  "cells": [
    {
      "cell_type": "markdown",
      "metadata": {
        "id": "view-in-github",
        "colab_type": "text"
      },
      "source": [
        "<a href=\"https://colab.research.google.com/github/HackerJacky/Econometrics_project/blob/main/%E8%A8%88%E9%87%8F%E7%B6%93%E6%BF%9F%E5%AD%B8%E9%9D%9E%E8%BE%B2%E5%B0%B1%E6%A5%AD%E6%A8%A1%E5%9E%8B.ipynb\" target=\"_parent\"><img src=\"https://colab.research.google.com/assets/colab-badge.svg\" alt=\"Open In Colab\"/></a>"
      ]
    },
    {
      "cell_type": "code",
      "source": [
        "pip install fredapi\n"
      ],
      "metadata": {
        "colab": {
          "base_uri": "https://localhost:8080/"
        },
        "id": "fvy6yzlLE2Ae",
        "outputId": "de10ea91-ab2f-4501-a17b-0e046534a3d7"
      },
      "execution_count": 2,
      "outputs": [
        {
          "output_type": "stream",
          "name": "stdout",
          "text": [
            "Collecting fredapi\n",
            "  Downloading fredapi-0.5.2-py3-none-any.whl.metadata (5.0 kB)\n",
            "Requirement already satisfied: pandas in /usr/local/lib/python3.11/dist-packages (from fredapi) (2.2.2)\n",
            "Requirement already satisfied: numpy>=1.23.2 in /usr/local/lib/python3.11/dist-packages (from pandas->fredapi) (2.0.2)\n",
            "Requirement already satisfied: python-dateutil>=2.8.2 in /usr/local/lib/python3.11/dist-packages (from pandas->fredapi) (2.9.0.post0)\n",
            "Requirement already satisfied: pytz>=2020.1 in /usr/local/lib/python3.11/dist-packages (from pandas->fredapi) (2025.2)\n",
            "Requirement already satisfied: tzdata>=2022.7 in /usr/local/lib/python3.11/dist-packages (from pandas->fredapi) (2025.2)\n",
            "Requirement already satisfied: six>=1.5 in /usr/local/lib/python3.11/dist-packages (from python-dateutil>=2.8.2->pandas->fredapi) (1.17.0)\n",
            "Downloading fredapi-0.5.2-py3-none-any.whl (11 kB)\n",
            "Installing collected packages: fredapi\n",
            "Successfully installed fredapi-0.5.2\n"
          ]
        }
      ]
    },
    {
      "cell_type": "code",
      "execution_count": 3,
      "metadata": {
        "id": "uSxxUZy7SRpE"
      },
      "outputs": [],
      "source": [
        "import pandas as pd\n",
        "import numpy as np\n",
        "import matplotlib.pyplot as plt\n",
        "import statsmodels.api as sm\n",
        "import seaborn as sns\n",
        "import yfinance as yf\n",
        "import datetime as dt\n",
        "import pandas_datareader.data as web\n",
        "from fredapi import Fred\n",
        "from statsmodels.tsa.stattools import adfuller\n",
        "from statsmodels.tsa.vector_ar.vecm import VECM, coint_johansen\n",
        "from google.colab import drive\n",
        "from IPython.display import display\n",
        "from scipy.stats import ttest_rel\n"
      ]
    },
    {
      "cell_type": "code",
      "source": [
        "# 設定 FRED API 金鑰\n",
        "fred = Fred(api_key='cb616b95642d785dc1427e4e2f53e61e')\n",
        "drive.mount('/content/drive')\n",
        "# 設定時間區間\n",
        "start = '2015-01-01'\n",
        "end = '2025-03-01'\n",
        "SP500=yf.download('^GSPC',start=start,end=end)\n",
        "SP500_data=SP500['Close']\n",
        "SP500_data.columns=['Close']\n",
        "\n",
        "#CPI\n",
        "cpi = fred.get_series('CPIAUCSL', observation_start=start, observation_end=end).diff().dropna()\n",
        "#聯邦利率\n",
        "rate = fred.get_series('FEDFUNDS', observation_start=start, observation_end=end).diff().dropna()\n",
        "#VIX 指數（恐慌指數）\n",
        "vix=yf.download('^VIX',start=start,end=end)\n",
        "vix_data=vix['Close']\n",
        "vix_data.columns=['Close']\n",
        "#非農就業人數\n",
        "nfp = pd.read_excel('/content/drive/MyDrive/計量經濟學報告參考文獻/NFP_data.xlsx')\n",
        "#M1貨幣流通量\n",
        "m1 = fred.get_series('M1SL',observation_start=start, observation_end=end).dropna()\n",
        "m1_yoy = m1.pct_change(12) * 100"
      ],
      "metadata": {
        "colab": {
          "base_uri": "https://localhost:8080/"
        },
        "id": "Y3yHx-MS-jl5",
        "outputId": "fc26a9f9-b7aa-46d8-97eb-38dfa5e363a9"
      },
      "execution_count": 5,
      "outputs": [
        {
          "output_type": "stream",
          "name": "stdout",
          "text": [
            "Drive already mounted at /content/drive; to attempt to forcibly remount, call drive.mount(\"/content/drive\", force_remount=True).\n",
            "YF.download() has changed argument auto_adjust default to True\n"
          ]
        },
        {
          "output_type": "stream",
          "name": "stderr",
          "text": [
            "[*********************100%***********************]  1 of 1 completed\n",
            "[*********************100%***********************]  1 of 1 completed\n"
          ]
        }
      ]
    },
    {
      "cell_type": "markdown",
      "source": [
        "###非農就業和S&P500的回歸"
      ],
      "metadata": {
        "id": "a0CMIItYuwR_"
      }
    },
    {
      "cell_type": "code",
      "source": [
        "# 先確保公告日是 datetime 格式\n",
        "nfp['公布日期'] = pd.to_datetime(nfp['公布日期'])\n",
        "\n",
        "# 將收盤價轉換為 DataFrame 並建立日期欄\n",
        "df_price = SP500_data.reset_index()[['Date', 'Close']]\n",
        "df_price = df_price.sort_values('Date')\n",
        "\n",
        "# 儲存結果\n",
        "results = []\n",
        "\n",
        "for date in nfp['公布日期']:\n",
        "    try:\n",
        "        price_prev = df_price[df_price['Date'] < date].iloc[-1]['Close']\n",
        "        price_today = df_price[df_price['Date'] == date].iloc[0]['Close']\n",
        "        price_next = df_price[df_price['Date'] > date].iloc[0]['Close']\n",
        "\n",
        "        results.append({\n",
        "            '公布日期': date,\n",
        "            '前一天收盤價': price_prev,\n",
        "            '當天收盤價': price_today,\n",
        "            '隔天收盤價': price_next\n",
        "        })\n",
        "    except:\n",
        "        continue  # 若日期缺資料則略過\n",
        "\n",
        "df_window = pd.DataFrame(results)\n",
        "\n",
        "# 計算報酬率（以百分比表示）\n",
        "df_window['前一天報酬率'] = (df_window['當天收盤價'] - df_window['前一天收盤價']) / df_window['前一天收盤價']\n",
        "df_window['隔天報酬率'] = (df_window['隔天收盤價'] - df_window['當天收盤價']) / df_window['當天收盤價']\n",
        "\n",
        "print(df_window)"
      ],
      "metadata": {
        "id": "yzJM3kzZuviX",
        "colab": {
          "base_uri": "https://localhost:8080/"
        },
        "outputId": "f1d06046-dacc-4ce1-a513-8a22f1cce4a5"
      },
      "execution_count": 6,
      "outputs": [
        {
          "output_type": "stream",
          "name": "stdout",
          "text": [
            "         公布日期       前一天收盤價        當天收盤價        隔天收盤價    前一天報酬率     隔天報酬率\n",
            "0  2025-02-07  6083.569824  6025.990234  6066.439941 -0.009465  0.006713\n",
            "1  2025-01-10  5918.250000  5827.040039  5836.220215 -0.015412  0.001575\n",
            "2  2024-12-06  6075.109863  6090.270020  6052.850098  0.002495 -0.006144\n",
            "3  2024-11-01  5705.450195  5728.799805  5712.689941  0.004093 -0.002812\n",
            "4  2024-10-04  5699.939941  5751.069824  5695.939941  0.008970 -0.009586\n",
            "..        ...          ...          ...          ...       ...       ...\n",
            "67 2019-05-03  2917.520020  2945.639893  2932.469971  0.009638 -0.004471\n",
            "68 2019-04-05  2879.389893  2892.739990  2895.770020  0.004636  0.001047\n",
            "69 2019-03-08  2748.929932  2743.070068  2783.300049 -0.002132  0.014666\n",
            "70 2019-02-01  2704.100098  2706.530029  2724.870117  0.000899  0.006776\n",
            "71 2019-01-04  2447.889893  2531.939941  2549.689941  0.034336  0.007010\n",
            "\n",
            "[72 rows x 6 columns]\n"
          ]
        }
      ]
    },
    {
      "cell_type": "code",
      "source": [
        "# 重新處理 NFP 數據\n",
        "def parse_k(value):\n",
        "    if isinstance(value, str):\n",
        "        value = value.replace(',', '')  # 移除千分位逗號\n",
        "        if 'K' in value:\n",
        "            return float(value.replace('K', '')) * 1000\n",
        "    return pd.to_numeric(value, errors='coerce')\n",
        "\n",
        "nfp['公布值_num'] = nfp['公布值'].apply(parse_k)\n",
        "nfp['預測值_num'] = nfp['預測值'].apply(parse_k)\n",
        "nfp['公布日期'] = pd.to_datetime(nfp['公布日期'])\n",
        "nfp['surprise'] = (nfp['公布值_num'] - nfp['預測值_num']) / nfp['預測值_num']\n",
        "\n",
        "# 合併 NFP + 收盤價報酬率資料\n",
        "df_window['公布日期'] = pd.to_datetime(df_window['公布日期'])\n",
        "df_final = pd.merge(nfp, df_window, on='公布日期', how='inner')\n",
        "\n",
        "# 篩選出最終欄位並去除缺漏值\n",
        "df_final = df_final[[\n",
        "    '公布日期', '公布值', '預測值', '公布值_num', '預測值_num', 'surprise',\n",
        "    '前一天收盤價', '當天收盤價', '隔天收盤價',\n",
        "    '前一天報酬率', '隔天報酬率'\n",
        "]].dropna()\n",
        "\n",
        "# 顯示清理後的前幾筆資料\n",
        "display(name=\"整理後的非農與報酬資料\", dataframe=df_final)\n",
        "df_final.head()"
      ],
      "metadata": {
        "id": "11ssOxSZUfVF",
        "colab": {
          "base_uri": "https://localhost:8080/",
          "height": 206
        },
        "outputId": "5713ae40-243d-413c-9a90-0620cdf779f6"
      },
      "execution_count": 7,
      "outputs": [
        {
          "output_type": "execute_result",
          "data": {
            "text/plain": [
              "        公布日期   公布值   預測值   公布值_num   預測值_num  surprise       前一天收盤價  \\\n",
              "0 2025-02-07  143K  169K  143000.0  169000.0 -0.153846  6083.569824   \n",
              "1 2025-01-10  256K  164K  256000.0  164000.0  0.560976  5918.250000   \n",
              "2 2024-12-06  227K  202K  227000.0  202000.0  0.123762  6075.109863   \n",
              "3 2024-11-01   12K  106K   12000.0  106000.0 -0.886792  5705.450195   \n",
              "4 2024-10-04  254K  147K  254000.0  147000.0  0.727891  5699.939941   \n",
              "\n",
              "         當天收盤價        隔天收盤價    前一天報酬率     隔天報酬率  \n",
              "0  6025.990234  6066.439941 -0.009465  0.006713  \n",
              "1  5827.040039  5836.220215 -0.015412  0.001575  \n",
              "2  6090.270020  6052.850098  0.002495 -0.006144  \n",
              "3  5728.799805  5712.689941  0.004093 -0.002812  \n",
              "4  5751.069824  5695.939941  0.008970 -0.009586  "
            ],
            "text/html": [
              "\n",
              "  <div id=\"df-57bb6c20-5de9-4a34-b4e6-ef85d2188ff4\" class=\"colab-df-container\">\n",
              "    <div>\n",
              "<style scoped>\n",
              "    .dataframe tbody tr th:only-of-type {\n",
              "        vertical-align: middle;\n",
              "    }\n",
              "\n",
              "    .dataframe tbody tr th {\n",
              "        vertical-align: top;\n",
              "    }\n",
              "\n",
              "    .dataframe thead th {\n",
              "        text-align: right;\n",
              "    }\n",
              "</style>\n",
              "<table border=\"1\" class=\"dataframe\">\n",
              "  <thead>\n",
              "    <tr style=\"text-align: right;\">\n",
              "      <th></th>\n",
              "      <th>公布日期</th>\n",
              "      <th>公布值</th>\n",
              "      <th>預測值</th>\n",
              "      <th>公布值_num</th>\n",
              "      <th>預測值_num</th>\n",
              "      <th>surprise</th>\n",
              "      <th>前一天收盤價</th>\n",
              "      <th>當天收盤價</th>\n",
              "      <th>隔天收盤價</th>\n",
              "      <th>前一天報酬率</th>\n",
              "      <th>隔天報酬率</th>\n",
              "    </tr>\n",
              "  </thead>\n",
              "  <tbody>\n",
              "    <tr>\n",
              "      <th>0</th>\n",
              "      <td>2025-02-07</td>\n",
              "      <td>143K</td>\n",
              "      <td>169K</td>\n",
              "      <td>143000.0</td>\n",
              "      <td>169000.0</td>\n",
              "      <td>-0.153846</td>\n",
              "      <td>6083.569824</td>\n",
              "      <td>6025.990234</td>\n",
              "      <td>6066.439941</td>\n",
              "      <td>-0.009465</td>\n",
              "      <td>0.006713</td>\n",
              "    </tr>\n",
              "    <tr>\n",
              "      <th>1</th>\n",
              "      <td>2025-01-10</td>\n",
              "      <td>256K</td>\n",
              "      <td>164K</td>\n",
              "      <td>256000.0</td>\n",
              "      <td>164000.0</td>\n",
              "      <td>0.560976</td>\n",
              "      <td>5918.250000</td>\n",
              "      <td>5827.040039</td>\n",
              "      <td>5836.220215</td>\n",
              "      <td>-0.015412</td>\n",
              "      <td>0.001575</td>\n",
              "    </tr>\n",
              "    <tr>\n",
              "      <th>2</th>\n",
              "      <td>2024-12-06</td>\n",
              "      <td>227K</td>\n",
              "      <td>202K</td>\n",
              "      <td>227000.0</td>\n",
              "      <td>202000.0</td>\n",
              "      <td>0.123762</td>\n",
              "      <td>6075.109863</td>\n",
              "      <td>6090.270020</td>\n",
              "      <td>6052.850098</td>\n",
              "      <td>0.002495</td>\n",
              "      <td>-0.006144</td>\n",
              "    </tr>\n",
              "    <tr>\n",
              "      <th>3</th>\n",
              "      <td>2024-11-01</td>\n",
              "      <td>12K</td>\n",
              "      <td>106K</td>\n",
              "      <td>12000.0</td>\n",
              "      <td>106000.0</td>\n",
              "      <td>-0.886792</td>\n",
              "      <td>5705.450195</td>\n",
              "      <td>5728.799805</td>\n",
              "      <td>5712.689941</td>\n",
              "      <td>0.004093</td>\n",
              "      <td>-0.002812</td>\n",
              "    </tr>\n",
              "    <tr>\n",
              "      <th>4</th>\n",
              "      <td>2024-10-04</td>\n",
              "      <td>254K</td>\n",
              "      <td>147K</td>\n",
              "      <td>254000.0</td>\n",
              "      <td>147000.0</td>\n",
              "      <td>0.727891</td>\n",
              "      <td>5699.939941</td>\n",
              "      <td>5751.069824</td>\n",
              "      <td>5695.939941</td>\n",
              "      <td>0.008970</td>\n",
              "      <td>-0.009586</td>\n",
              "    </tr>\n",
              "  </tbody>\n",
              "</table>\n",
              "</div>\n",
              "    <div class=\"colab-df-buttons\">\n",
              "\n",
              "  <div class=\"colab-df-container\">\n",
              "    <button class=\"colab-df-convert\" onclick=\"convertToInteractive('df-57bb6c20-5de9-4a34-b4e6-ef85d2188ff4')\"\n",
              "            title=\"Convert this dataframe to an interactive table.\"\n",
              "            style=\"display:none;\">\n",
              "\n",
              "  <svg xmlns=\"http://www.w3.org/2000/svg\" height=\"24px\" viewBox=\"0 -960 960 960\">\n",
              "    <path d=\"M120-120v-720h720v720H120Zm60-500h600v-160H180v160Zm220 220h160v-160H400v160Zm0 220h160v-160H400v160ZM180-400h160v-160H180v160Zm440 0h160v-160H620v160ZM180-180h160v-160H180v160Zm440 0h160v-160H620v160Z\"/>\n",
              "  </svg>\n",
              "    </button>\n",
              "\n",
              "  <style>\n",
              "    .colab-df-container {\n",
              "      display:flex;\n",
              "      gap: 12px;\n",
              "    }\n",
              "\n",
              "    .colab-df-convert {\n",
              "      background-color: #E8F0FE;\n",
              "      border: none;\n",
              "      border-radius: 50%;\n",
              "      cursor: pointer;\n",
              "      display: none;\n",
              "      fill: #1967D2;\n",
              "      height: 32px;\n",
              "      padding: 0 0 0 0;\n",
              "      width: 32px;\n",
              "    }\n",
              "\n",
              "    .colab-df-convert:hover {\n",
              "      background-color: #E2EBFA;\n",
              "      box-shadow: 0px 1px 2px rgba(60, 64, 67, 0.3), 0px 1px 3px 1px rgba(60, 64, 67, 0.15);\n",
              "      fill: #174EA6;\n",
              "    }\n",
              "\n",
              "    .colab-df-buttons div {\n",
              "      margin-bottom: 4px;\n",
              "    }\n",
              "\n",
              "    [theme=dark] .colab-df-convert {\n",
              "      background-color: #3B4455;\n",
              "      fill: #D2E3FC;\n",
              "    }\n",
              "\n",
              "    [theme=dark] .colab-df-convert:hover {\n",
              "      background-color: #434B5C;\n",
              "      box-shadow: 0px 1px 3px 1px rgba(0, 0, 0, 0.15);\n",
              "      filter: drop-shadow(0px 1px 2px rgba(0, 0, 0, 0.3));\n",
              "      fill: #FFFFFF;\n",
              "    }\n",
              "  </style>\n",
              "\n",
              "    <script>\n",
              "      const buttonEl =\n",
              "        document.querySelector('#df-57bb6c20-5de9-4a34-b4e6-ef85d2188ff4 button.colab-df-convert');\n",
              "      buttonEl.style.display =\n",
              "        google.colab.kernel.accessAllowed ? 'block' : 'none';\n",
              "\n",
              "      async function convertToInteractive(key) {\n",
              "        const element = document.querySelector('#df-57bb6c20-5de9-4a34-b4e6-ef85d2188ff4');\n",
              "        const dataTable =\n",
              "          await google.colab.kernel.invokeFunction('convertToInteractive',\n",
              "                                                    [key], {});\n",
              "        if (!dataTable) return;\n",
              "\n",
              "        const docLinkHtml = 'Like what you see? Visit the ' +\n",
              "          '<a target=\"_blank\" href=https://colab.research.google.com/notebooks/data_table.ipynb>data table notebook</a>'\n",
              "          + ' to learn more about interactive tables.';\n",
              "        element.innerHTML = '';\n",
              "        dataTable['output_type'] = 'display_data';\n",
              "        await google.colab.output.renderOutput(dataTable, element);\n",
              "        const docLink = document.createElement('div');\n",
              "        docLink.innerHTML = docLinkHtml;\n",
              "        element.appendChild(docLink);\n",
              "      }\n",
              "    </script>\n",
              "  </div>\n",
              "\n",
              "\n",
              "    <div id=\"df-91e8b3ac-ae73-488b-801f-22e35da0b925\">\n",
              "      <button class=\"colab-df-quickchart\" onclick=\"quickchart('df-91e8b3ac-ae73-488b-801f-22e35da0b925')\"\n",
              "                title=\"Suggest charts\"\n",
              "                style=\"display:none;\">\n",
              "\n",
              "<svg xmlns=\"http://www.w3.org/2000/svg\" height=\"24px\"viewBox=\"0 0 24 24\"\n",
              "     width=\"24px\">\n",
              "    <g>\n",
              "        <path d=\"M19 3H5c-1.1 0-2 .9-2 2v14c0 1.1.9 2 2 2h14c1.1 0 2-.9 2-2V5c0-1.1-.9-2-2-2zM9 17H7v-7h2v7zm4 0h-2V7h2v10zm4 0h-2v-4h2v4z\"/>\n",
              "    </g>\n",
              "</svg>\n",
              "      </button>\n",
              "\n",
              "<style>\n",
              "  .colab-df-quickchart {\n",
              "      --bg-color: #E8F0FE;\n",
              "      --fill-color: #1967D2;\n",
              "      --hover-bg-color: #E2EBFA;\n",
              "      --hover-fill-color: #174EA6;\n",
              "      --disabled-fill-color: #AAA;\n",
              "      --disabled-bg-color: #DDD;\n",
              "  }\n",
              "\n",
              "  [theme=dark] .colab-df-quickchart {\n",
              "      --bg-color: #3B4455;\n",
              "      --fill-color: #D2E3FC;\n",
              "      --hover-bg-color: #434B5C;\n",
              "      --hover-fill-color: #FFFFFF;\n",
              "      --disabled-bg-color: #3B4455;\n",
              "      --disabled-fill-color: #666;\n",
              "  }\n",
              "\n",
              "  .colab-df-quickchart {\n",
              "    background-color: var(--bg-color);\n",
              "    border: none;\n",
              "    border-radius: 50%;\n",
              "    cursor: pointer;\n",
              "    display: none;\n",
              "    fill: var(--fill-color);\n",
              "    height: 32px;\n",
              "    padding: 0;\n",
              "    width: 32px;\n",
              "  }\n",
              "\n",
              "  .colab-df-quickchart:hover {\n",
              "    background-color: var(--hover-bg-color);\n",
              "    box-shadow: 0 1px 2px rgba(60, 64, 67, 0.3), 0 1px 3px 1px rgba(60, 64, 67, 0.15);\n",
              "    fill: var(--button-hover-fill-color);\n",
              "  }\n",
              "\n",
              "  .colab-df-quickchart-complete:disabled,\n",
              "  .colab-df-quickchart-complete:disabled:hover {\n",
              "    background-color: var(--disabled-bg-color);\n",
              "    fill: var(--disabled-fill-color);\n",
              "    box-shadow: none;\n",
              "  }\n",
              "\n",
              "  .colab-df-spinner {\n",
              "    border: 2px solid var(--fill-color);\n",
              "    border-color: transparent;\n",
              "    border-bottom-color: var(--fill-color);\n",
              "    animation:\n",
              "      spin 1s steps(1) infinite;\n",
              "  }\n",
              "\n",
              "  @keyframes spin {\n",
              "    0% {\n",
              "      border-color: transparent;\n",
              "      border-bottom-color: var(--fill-color);\n",
              "      border-left-color: var(--fill-color);\n",
              "    }\n",
              "    20% {\n",
              "      border-color: transparent;\n",
              "      border-left-color: var(--fill-color);\n",
              "      border-top-color: var(--fill-color);\n",
              "    }\n",
              "    30% {\n",
              "      border-color: transparent;\n",
              "      border-left-color: var(--fill-color);\n",
              "      border-top-color: var(--fill-color);\n",
              "      border-right-color: var(--fill-color);\n",
              "    }\n",
              "    40% {\n",
              "      border-color: transparent;\n",
              "      border-right-color: var(--fill-color);\n",
              "      border-top-color: var(--fill-color);\n",
              "    }\n",
              "    60% {\n",
              "      border-color: transparent;\n",
              "      border-right-color: var(--fill-color);\n",
              "    }\n",
              "    80% {\n",
              "      border-color: transparent;\n",
              "      border-right-color: var(--fill-color);\n",
              "      border-bottom-color: var(--fill-color);\n",
              "    }\n",
              "    90% {\n",
              "      border-color: transparent;\n",
              "      border-bottom-color: var(--fill-color);\n",
              "    }\n",
              "  }\n",
              "</style>\n",
              "\n",
              "      <script>\n",
              "        async function quickchart(key) {\n",
              "          const quickchartButtonEl =\n",
              "            document.querySelector('#' + key + ' button');\n",
              "          quickchartButtonEl.disabled = true;  // To prevent multiple clicks.\n",
              "          quickchartButtonEl.classList.add('colab-df-spinner');\n",
              "          try {\n",
              "            const charts = await google.colab.kernel.invokeFunction(\n",
              "                'suggestCharts', [key], {});\n",
              "          } catch (error) {\n",
              "            console.error('Error during call to suggestCharts:', error);\n",
              "          }\n",
              "          quickchartButtonEl.classList.remove('colab-df-spinner');\n",
              "          quickchartButtonEl.classList.add('colab-df-quickchart-complete');\n",
              "        }\n",
              "        (() => {\n",
              "          let quickchartButtonEl =\n",
              "            document.querySelector('#df-91e8b3ac-ae73-488b-801f-22e35da0b925 button');\n",
              "          quickchartButtonEl.style.display =\n",
              "            google.colab.kernel.accessAllowed ? 'block' : 'none';\n",
              "        })();\n",
              "      </script>\n",
              "    </div>\n",
              "\n",
              "    </div>\n",
              "  </div>\n"
            ],
            "application/vnd.google.colaboratory.intrinsic+json": {
              "type": "dataframe",
              "variable_name": "df_final",
              "summary": "{\n  \"name\": \"df_final\",\n  \"rows\": 72,\n  \"fields\": [\n    {\n      \"column\": \"\\u516c\\u5e03\\u65e5\\u671f\",\n      \"properties\": {\n        \"dtype\": \"date\",\n        \"min\": \"2019-01-04 00:00:00\",\n        \"max\": \"2025-02-07 00:00:00\",\n        \"num_unique_values\": 72,\n        \"samples\": [\n          \"2024-10-04 00:00:00\",\n          \"2019-10-04 00:00:00\",\n          \"2023-08-04 00:00:00\"\n        ],\n        \"semantic_type\": \"\",\n        \"description\": \"\"\n      }\n    },\n    {\n      \"column\": \"\\u516c\\u5e03\\u503c\",\n      \"properties\": {\n        \"dtype\": \"string\",\n        \"num_unique_values\": 67,\n        \"samples\": [\n          \"194K\",\n          \"336K\",\n          \"254K\"\n        ],\n        \"semantic_type\": \"\",\n        \"description\": \"\"\n      }\n    },\n    {\n      \"column\": \"\\u9810\\u6e2c\\u503c\",\n      \"properties\": {\n        \"dtype\": \"string\",\n        \"num_unique_values\": 52,\n        \"samples\": [\n          \"300K\",\n          \"3,000K\",\n          \"186K\"\n        ],\n        \"semantic_type\": \"\",\n        \"description\": \"\"\n      }\n    },\n    {\n      \"column\": \"\\u516c\\u5e03\\u503c_num\",\n      \"properties\": {\n        \"dtype\": \"number\",\n        \"std\": 2556197.8032826493,\n        \"min\": -20537000.0,\n        \"max\": 4800000.0,\n        \"num_unique_values\": 67,\n        \"samples\": [\n          194000.0,\n          336000.0,\n          254000.0\n        ],\n        \"semantic_type\": \"\",\n        \"description\": \"\"\n      }\n    },\n    {\n      \"column\": \"\\u9810\\u6e2c\\u503c_num\",\n      \"properties\": {\n        \"dtype\": \"number\",\n        \"std\": 2830275.0970532885,\n        \"min\": -22000000.0,\n        \"max\": 3000000.0,\n        \"num_unique_values\": 52,\n        \"samples\": [\n          300000.0,\n          3000000.0,\n          186000.0\n        ],\n        \"semantic_type\": \"\",\n        \"description\": \"\"\n      }\n    },\n    {\n      \"column\": \"surprise\",\n      \"properties\": {\n        \"dtype\": \"number\",\n        \"std\": 0.9691586064088022,\n        \"min\": -2.971830985915493,\n        \"max\": 6.01,\n        \"num_unique_values\": 70,\n        \"samples\": [\n          1.7945945945945947,\n          -0.15384615384615385,\n          -0.2223529411764706\n        ],\n        \"semantic_type\": \"\",\n        \"description\": \"\"\n      }\n    },\n    {\n      \"column\": \"\\u524d\\u4e00\\u5929\\u6536\\u76e4\\u50f9\",\n      \"properties\": {\n        \"dtype\": \"number\",\n        \"std\": 916.3939287582751,\n        \"min\": 2447.889892578125,\n        \"max\": 6083.56982421875,\n        \"num_unique_values\": 72,\n        \"samples\": [\n          5699.93994140625,\n          2910.6298828125,\n          4501.89013671875\n        ],\n        \"semantic_type\": \"\",\n        \"description\": \"\"\n      }\n    },\n    {\n      \"column\": \"\\u7576\\u5929\\u6536\\u76e4\\u50f9\",\n      \"properties\": {\n        \"dtype\": \"number\",\n        \"std\": 909.2979332252373,\n        \"min\": 2488.64990234375,\n        \"max\": 6090.27001953125,\n        \"num_unique_values\": 72,\n        \"samples\": [\n          5751.06982421875,\n          2952.010009765625,\n          4478.02978515625\n        ],\n        \"semantic_type\": \"\",\n        \"description\": \"\"\n      }\n    },\n    {\n      \"column\": \"\\u9694\\u5929\\u6536\\u76e4\\u50f9\",\n      \"properties\": {\n        \"dtype\": \"number\",\n        \"std\": 907.1175529631437,\n        \"min\": 2549.68994140625,\n        \"max\": 6066.43994140625,\n        \"num_unique_values\": 72,\n        \"samples\": [\n          5695.93994140625,\n          2938.7900390625,\n          4518.43994140625\n        ],\n        \"semantic_type\": \"\",\n        \"description\": \"\"\n      }\n    },\n    {\n      \"column\": \"\\u524d\\u4e00\\u5929\\u5831\\u916c\\u7387\",\n      \"properties\": {\n        \"dtype\": \"number\",\n        \"std\": 0.011182579819572812,\n        \"min\": -0.02800361778677356,\n        \"max\": 0.03433571464262358,\n        \"num_unique_values\": 72,\n        \"samples\": [\n          0.008970249395274433,\n          0.014216897585460084,\n          -0.005300074155050543\n        ],\n        \"semantic_type\": \"\",\n        \"description\": \"\"\n      }\n    },\n    {\n      \"column\": \"\\u9694\\u5929\\u5831\\u916c\\u7387\",\n      \"properties\": {\n        \"dtype\": \"number\",\n        \"std\": 0.016139719149972788,\n        \"min\": -0.07596969747745101,\n        \"max\": 0.07033131865275062,\n        \"num_unique_values\": 72,\n        \"samples\": [\n          -0.009586022165882689,\n          -0.004478294673592452,\n          0.009024092779362785\n        ],\n        \"semantic_type\": \"\",\n        \"description\": \"\"\n      }\n    }\n  ]\n}"
            }
          },
          "metadata": {},
          "execution_count": 7
        }
      ]
    },
    {
      "cell_type": "code",
      "source": [
        "\n",
        "\n",
        "# 去除缺值\n",
        "valid = df_window.dropna(subset=['前一天報酬率', '隔天報酬率'])\n",
        "\n",
        "# t 檢定\n",
        "t_stat, p_val = ttest_rel(valid['隔天報酬率'], valid['前一天報酬率'])\n",
        "\n",
        "print(f't = {t_stat:.4f}, p = {p_val:.4f}')\n"
      ],
      "metadata": {
        "colab": {
          "base_uri": "https://localhost:8080/"
        },
        "id": "Cs4ZfP0qgjIP",
        "outputId": "3eb97df6-36ae-4608-d42f-8306bd5a1e66"
      },
      "execution_count": 8,
      "outputs": [
        {
          "output_type": "stream",
          "name": "stdout",
          "text": [
            "t = -1.1901, p = 0.2380\n"
          ]
        }
      ]
    },
    {
      "cell_type": "code",
      "source": [
        "# # 建立回歸模型：使用 surprise 解釋隔天報酬率\n",
        "X = df_final[['surprise']]\n",
        "X = sm.add_constant(X)\n",
        "y = df_final['隔天報酬率']\n",
        "\n",
        "model_robust = sm.OLS(y, X, missing='drop').fit(cov_type='HC1')\n",
        "print(model_robust.summary())"
      ],
      "metadata": {
        "colab": {
          "base_uri": "https://localhost:8080/"
        },
        "id": "SGPhzhJESp-d",
        "outputId": "e5329c7f-a5ea-42ef-fde9-952b7c04821e"
      },
      "execution_count": 9,
      "outputs": [
        {
          "output_type": "stream",
          "name": "stdout",
          "text": [
            "                            OLS Regression Results                            \n",
            "==============================================================================\n",
            "Dep. Variable:                  隔天報酬率   R-squared:                       0.178\n",
            "Model:                            OLS   Adj. R-squared:                  0.166\n",
            "Method:                 Least Squares   F-statistic:                     4.429\n",
            "Date:                Sun, 01 Jun 2025   Prob (F-statistic):             0.0389\n",
            "Time:                        11:04:26   Log-Likelihood:                 202.48\n",
            "No. Observations:                  72   AIC:                            -401.0\n",
            "Df Residuals:                      70   BIC:                            -396.4\n",
            "Df Model:                           1                                         \n",
            "Covariance Type:                  HC1                                         \n",
            "==============================================================================\n",
            "                 coef    std err          z      P>|z|      [0.025      0.975]\n",
            "------------------------------------------------------------------------------\n",
            "const          0.0003      0.002      0.183      0.855      -0.003       0.004\n",
            "surprise      -0.0070      0.003     -2.105      0.035      -0.014      -0.000\n",
            "==============================================================================\n",
            "Omnibus:                       26.308   Durbin-Watson:                   2.613\n",
            "Prob(Omnibus):                  0.000   Jarque-Bera (JB):              127.160\n",
            "Skew:                           0.813   Prob(JB):                     2.44e-28\n",
            "Kurtosis:                       9.304   Cond. No.                         1.21\n",
            "==============================================================================\n",
            "\n",
            "Notes:\n",
            "[1] Standard Errors are heteroscedasticity robust (HC1)\n"
          ]
        }
      ]
    },
    {
      "cell_type": "code",
      "source": [
        "plt.figure(figsize=(8, 5))\n",
        "sns.regplot(x='surprise', y='隔天報酬率', data=df_final, ci=None, line_kws={\"color\": \"red\"})\n",
        "plt.title('Impact of Surprise on Next-Day Return', fontsize=14)\n",
        "plt.xlabel('Surprise (Relative difference between actual and forecasted NFP)')\n",
        "plt.ylabel('S&P 500 Next-Day Return')\n",
        "plt.grid(True)\n",
        "plt.tight_layout()\n",
        "plt.show()\n"
      ],
      "metadata": {
        "id": "BYPj84T_HidI",
        "colab": {
          "base_uri": "https://localhost:8080/",
          "height": 507
        },
        "outputId": "ff1dee79-9508-4702-f4da-3005942fde68"
      },
      "execution_count": 15,
      "outputs": [
        {
          "output_type": "display_data",
          "data": {
            "text/plain": [
              "<Figure size 800x500 with 1 Axes>"
            ],
            "image/png": "[encoded data removed]"
          },
          "metadata": {}
        }
      ]
    },
    {
      "cell_type": "markdown",
      "source": [
        "###S&P500和CPI以及M1貨幣供給的關聯性"
      ],
      "metadata": {
        "id": "pN-UDK3wnVy_"
      }
    },
    {
      "cell_type": "code",
      "source": [
        "#VAR定態需要檢定單根還需要檢定是否為定態\n",
        "#可以思考利率partial out 其他變數\n",
        "#"
      ],
      "metadata": {
        "id": "LwzOfH1R8l5C"
      },
      "execution_count": null,
      "outputs": []
    },
    {
      "cell_type": "code",
      "source": [
        "SP500 = yf.download('^GSPC', start=start, end=end)['Close']\n",
        "SP500_monthly = SP500.resample('M').last()\n",
        "SP500_ret = np.log(SP500_monthly).diff().dropna()\n",
        "SP500_ret.name = 'ret_sp500'\n",
        "\n",
        "# 資料轉月頻\n",
        "def to_monthly(series):\n",
        "    return series.resample('M').last()\n",
        "\n",
        "cpi = to_monthly(fred.get_series('CPIAUCSL', observation_start=start, observation_end=end).dropna())\n",
        "rate = to_monthly(fred.get_series('FEDFUNDS', observation_start=start, observation_end=end).dropna())\n",
        "cci = to_monthly(fred.get_series('UMCSENT', observation_start=start, observation_end=end).dropna())\n",
        "m1 = to_monthly(fred.get_series('M1SL', observation_start=start, observation_end=end).dropna())\n",
        "m1_yoy = m1.pct_change(12) * 100\n",
        "\n",
        "# 整合資料\n",
        "df = pd.concat([SP500_ret, cpi, rate, cci,m1_yoy], axis=1)\n",
        "df.columns = ['ret_sp500', 'cpi','rate','cci', 'm1_yoy']\n",
        "df = df.dropna()\n",
        "\n",
        "# ADF 單根檢定\n",
        "def adf_test(series, name):\n",
        "    result = adfuller(series)\n",
        "    return pd.Series({\n",
        "        'Variable': name,\n",
        "        'ADF Statistic': result[0],\n",
        "        'p-value': result[1],\n",
        "        'Is Stationary (5%)': result[1] < 0.05\n",
        "    })\n",
        "\n",
        "adf_table = pd.concat([adf_test(df[col], col) for col in df.columns[1:]], axis=1).T\n",
        "print(\"\\n=== ADF 單根檢定結果 ===\")\n",
        "print(adf_table)\n",
        "\n",
        "#由此可以看出定態檢定沒過,所以我們不能使用var"
      ],
      "metadata": {
        "colab": {
          "base_uri": "https://localhost:8080/"
        },
        "id": "YyDgMXDjO93N",
        "outputId": "740668a2-bc7f-46ef-cfc7-64a5229537a6"
      },
      "execution_count": null,
      "outputs": [
        {
          "output_type": "stream",
          "name": "stderr",
          "text": [
            "\r[*********************100%***********************]  1 of 1 completed\n",
            "<ipython-input-9-f7833c0780d5>:2: FutureWarning: 'M' is deprecated and will be removed in a future version, please use 'ME' instead.\n",
            "  SP500_monthly = SP500.resample('M').last()\n",
            "<ipython-input-9-f7833c0780d5>:8: FutureWarning: 'M' is deprecated and will be removed in a future version, please use 'ME' instead.\n",
            "  return series.resample('M').last()\n"
          ]
        },
        {
          "output_type": "stream",
          "name": "stdout",
          "text": [
            "\n",
            "=== ADF 單根檢定結果 ===\n",
            "  Variable ADF Statistic   p-value Is Stationary (5%)\n",
            "0      cpi     -0.007134  0.957938              False\n",
            "1   m1_yoy     -1.587477  0.489881              False\n"
          ]
        }
      ]
    }
  ]
}